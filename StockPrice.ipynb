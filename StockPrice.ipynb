{
  "nbformat": 4,
  "nbformat_minor": 0,
  "metadata": {
    "colab": {
      "provenance": [],
      "authorship_tag": "ABX9TyNmZAy56aJwlqrWnjKDhNI/",
      "include_colab_link": true
    },
    "kernelspec": {
      "name": "python3",
      "display_name": "Python 3"
    },
    "language_info": {
      "name": "python"
    }
  },
  "cells": [
    {
      "cell_type": "markdown",
      "metadata": {
        "id": "view-in-github",
        "colab_type": "text"
      },
      "source": [
        "<a href=\"https://colab.research.google.com/github/shivaniberi/StockAnalysis/blob/main/StockPrice.ipynb\" target=\"_parent\"><img src=\"https://colab.research.google.com/assets/colab-badge.svg\" alt=\"Open In Colab\"/></a>"
      ]
    },
    {
      "cell_type": "code",
      "source": [
        "from google.colab import userdata\n",
        "vantage_api_key = userdata.get('API_Vantage')\n"
      ],
      "metadata": {
        "id": "a1dFPcneAFip"
      },
      "execution_count": null,
      "outputs": []
    },
    {
      "cell_type": "code",
      "source": [
        "user_id = userdata.get('snowflake_userid')\n",
        "password = userdata.get('snowflake_password')\n",
        "account = userdata.get('snowflake_account')"
      ],
      "metadata": {
        "id": "GWoYyzrxIHoa"
      },
      "execution_count": null,
      "outputs": []
    },
    {
      "cell_type": "code",
      "source": [
        "symbol = symbol = \"MSFT\"\n",
        "\n",
        "url = f'https://www.alphavantage.co/query?function=TIME_SERIES_DAILY&symbol={symbol}&apikey={vantage_api_key }'\n"
      ],
      "metadata": {
        "id": "CfFICSy1HDOA"
      },
      "execution_count": null,
      "outputs": []
    },
    {
      "cell_type": "code",
      "source": [
        "import requests  # Import the requests library\n",
        "r = requests.get(url)"
      ],
      "metadata": {
        "id": "nVQlfhx3IHBx"
      },
      "execution_count": null,
      "outputs": []
    },
    {
      "cell_type": "code",
      "source": [
        "data = r.json() # Convert the data into JSON format"
      ],
      "metadata": {
        "id": "IXlc3R0vLGKx"
      },
      "execution_count": null,
      "outputs": []
    },
    {
      "cell_type": "code",
      "source": [
        "import requests\n",
        "from datetime import datetime, timedelta\n",
        "\n",
        "def return_last_90d_price(symbol):\n",
        "    \"\"\"\n",
        "    - return the last 90 days of the stock prices of symbol as a list of json strings\n",
        "    \"\"\"\n",
        "    vantage_api_key = userdata.get('API_Vantage')  # Assuming userdata is already defined\n",
        "    url = f'https://www.alphavantage.co/query?function=TIME_SERIES_DAILY&symbol={symbol}&apikey={ vantage_api_key}'\n",
        "\n",
        "    r = requests.get(url)\n",
        "    data = r.json()\n",
        "\n",
        "    results = []  # List to hold the last 90 days of stock info\n",
        "    ninety_days_ago = datetime.today() - timedelta(days=90)  # Get the date 90 days ago\n",
        "\n",
        "    # Iterate through the daily data and filter for the last 90 days along with date info\n",
        "    for d in data[\"Time Series (Daily)\"]:\n",
        "        date_obj = datetime.strptime(d, \"%Y-%m-%d\")\n",
        "        if date_obj >= ninety_days_ago:\n",
        "          # append the data in clear format using table or another result dictionary\n",
        "          price_data={\n",
        "\n",
        "              \"date\":d,\n",
        "              \"open\":data[\"Time Series (Daily)\"][d][\"1. open\"],\n",
        "              \"high\":data[\"Time Series (Daily)\"][d][\"2. high\"],\n",
        "              \"low\":data[\"Time Series (Daily)\"][d][\"3. low\"],\n",
        "              \"close\":data[\"Time Series (Daily)\"][d][\"4. close\"],\n",
        "              \"volume\":data[\"Time Series (Daily)\"][d][\"5. volume\"],\n",
        "              \"symbol\":symbol\n",
        "          }\n",
        "\n",
        "          results.append(price_data)\n",
        "\n",
        "    return results\n"
      ],
      "metadata": {
        "id": "aPVfXxe8LXNO"
      },
      "execution_count": null,
      "outputs": []
    },
    {
      "cell_type": "code",
      "source": [
        "price_list=return_last_90d_price(\"MSFT\")"
      ],
      "metadata": {
        "id": "IW2mBQmnQ3xT"
      },
      "execution_count": null,
      "outputs": []
    },
    {
      "cell_type": "code",
      "source": [
        "len(price_list)"
      ],
      "metadata": {
        "colab": {
          "base_uri": "https://localhost:8080/"
        },
        "id": "3t2YZLqiqmDh",
        "outputId": "cf1e8ffd-58cc-4d72-ff48-634a74c6d086"
      },
      "execution_count": null,
      "outputs": [
        {
          "output_type": "execute_result",
          "data": {
            "text/plain": [
              "62"
            ]
          },
          "metadata": {},
          "execution_count": 27
        }
      ]
    },
    {
      "cell_type": "markdown",
      "source": [
        "In 2024, U.S. stock markets are open Monday through Friday, excluding weekends and market holidays. From June to September 2024, the major holidays to consider are:\n",
        "\n",
        "\n",
        "Independence Day: July 4, 2024 (market closed)\n",
        "Labor Day: September 2, 2024 (market closed)\n",
        "Excluding these holidays and weekends, you can calculate the number of trading days over the 90-day period, which would likely fall between 60 and 65 trading days."
      ],
      "metadata": {
        "id": "pXb3wfMXIyXa"
      }
    },
    {
      "cell_type": "markdown",
      "source": [
        "Defining ETL functions"
      ],
      "metadata": {
        "id": "-gwu28HpWM1s"
      }
    },
    {
      "cell_type": "code",
      "source": [
        "import requests\n",
        "\n",
        "def extract(url):\n",
        "    f = requests.get(url)\n",
        "    return (f.text)\n",
        "    print(f.text)"
      ],
      "metadata": {
        "id": "bxnCbWiwWPIk"
      },
      "execution_count": null,
      "outputs": []
    },
    {
      "cell_type": "code",
      "source": [
        "def transform(text):\n",
        "    lines = text.strip().split(\"\\n\")\n",
        "    records = []\n",
        "    for l in lines:\n",
        "      (date,open,high,low,volume) = l.split(\",\")\n",
        "      records.append([date,open,high,low,volume])\n",
        "    # return the records except the first entry\n",
        "    return records\n"
      ],
      "metadata": {
        "id": "ltBE3nEsZ9gj"
      },
      "execution_count": null,
      "outputs": []
    },
    {
      "cell_type": "code",
      "source": [
        "pip install snowflake-connector-python\n"
      ],
      "metadata": {
        "colab": {
          "base_uri": "https://localhost:8080/"
        },
        "id": "sWwvAorwS-Mc",
        "outputId": "bc51c3f9-2968-483b-e213-b8405b4b12fd"
      },
      "execution_count": null,
      "outputs": [
        {
          "output_type": "stream",
          "name": "stdout",
          "text": [
            "Requirement already satisfied: snowflake-connector-python in /usr/local/lib/python3.10/dist-packages (3.12.2)\n",
            "Requirement already satisfied: asn1crypto<2.0.0,>0.24.0 in /usr/local/lib/python3.10/dist-packages (from snowflake-connector-python) (1.5.1)\n",
            "Requirement already satisfied: cffi<2.0.0,>=1.9 in /usr/local/lib/python3.10/dist-packages (from snowflake-connector-python) (1.17.1)\n",
            "Requirement already satisfied: cryptography>=3.1.0 in /usr/local/lib/python3.10/dist-packages (from snowflake-connector-python) (43.0.1)\n",
            "Requirement already satisfied: pyOpenSSL<25.0.0,>=16.2.0 in /usr/local/lib/python3.10/dist-packages (from snowflake-connector-python) (24.2.1)\n",
            "Requirement already satisfied: pyjwt<3.0.0 in /usr/local/lib/python3.10/dist-packages (from snowflake-connector-python) (2.9.0)\n",
            "Requirement already satisfied: pytz in /usr/local/lib/python3.10/dist-packages (from snowflake-connector-python) (2024.2)\n",
            "Requirement already satisfied: requests<3.0.0 in /usr/local/lib/python3.10/dist-packages (from snowflake-connector-python) (2.32.3)\n",
            "Requirement already satisfied: packaging in /usr/local/lib/python3.10/dist-packages (from snowflake-connector-python) (24.1)\n",
            "Requirement already satisfied: charset-normalizer<4,>=2 in /usr/local/lib/python3.10/dist-packages (from snowflake-connector-python) (3.3.2)\n",
            "Requirement already satisfied: idna<4,>=2.5 in /usr/local/lib/python3.10/dist-packages (from snowflake-connector-python) (3.10)\n",
            "Requirement already satisfied: certifi>=2017.4.17 in /usr/local/lib/python3.10/dist-packages (from snowflake-connector-python) (2024.8.30)\n",
            "Requirement already satisfied: typing-extensions<5,>=4.3 in /usr/local/lib/python3.10/dist-packages (from snowflake-connector-python) (4.12.2)\n",
            "Requirement already satisfied: filelock<4,>=3.5 in /usr/local/lib/python3.10/dist-packages (from snowflake-connector-python) (3.16.1)\n",
            "Requirement already satisfied: sortedcontainers>=2.4.0 in /usr/local/lib/python3.10/dist-packages (from snowflake-connector-python) (2.4.0)\n",
            "Requirement already satisfied: platformdirs<5.0.0,>=2.6.0 in /usr/local/lib/python3.10/dist-packages (from snowflake-connector-python) (4.3.6)\n",
            "Requirement already satisfied: tomlkit in /usr/local/lib/python3.10/dist-packages (from snowflake-connector-python) (0.13.2)\n",
            "Requirement already satisfied: pycparser in /usr/local/lib/python3.10/dist-packages (from cffi<2.0.0,>=1.9->snowflake-connector-python) (2.22)\n",
            "Requirement already satisfied: urllib3<3,>=1.21.1 in /usr/local/lib/python3.10/dist-packages (from requests<3.0.0->snowflake-connector-python) (2.2.3)\n"
          ]
        }
      ]
    },
    {
      "cell_type": "markdown",
      "source": [
        "After installing establist connection to Snowflake"
      ],
      "metadata": {
        "id": "i0QthFrwWZEw"
      }
    },
    {
      "cell_type": "code",
      "source": [
        "import snowflake.connector\n",
        "\n",
        "def return_snowflake_conn():\n",
        "    # Establish a connection to Snowflake\n",
        "    conn = snowflake.connector.connect(\n",
        "        user=user_id,          # Replace with your actual user\n",
        "        password=password,  # Replace with your actual password\n",
        "        account=account,    # e.g., 'xyz12345.eu-central-2'\n",
        "        warehouse='compute_wh',\n",
        "        database='demoAPI',\n",
        "        schema='raw_data',\n",
        "        role='accountadmin',\n",
        "        ocsp_fail_open=False\n",
        "    )\n",
        " #create a cursor object so that sql knows the starting point of executiom of commands\n",
        "    return conn.cursor()"
      ],
      "metadata": {
        "id": "-fp4E9MxWXrr"
      },
      "execution_count": null,
      "outputs": []
    },
    {
      "cell_type": "code",
      "source": [
        "# This function returns a list of price data for the last 90 days\n",
        "price_list = return_last_90d_price(\"MSFT\")  # This should give you the structured data\n",
        "\n",
        "def load(con, records):\n",
        "    # Check if records is empty\n",
        "    if not records:\n",
        "        print(\"No records to load.\")\n",
        "        return  # Exit if there are no records\n",
        "\n",
        "    # Define the target table for price data\n",
        "    target_table = \"demoAPI.raw_data.stock_price\"\n",
        "\n",
        "    # Create the table if it does not exist\n",
        "    conn.execute(f\"\"\"\n",
        "    CREATE or Replace TABLE {target_table} (\n",
        "      date DATE Primary Key,\n",
        "      symbol VARCHAR,\n",
        "      open NUMBER,\n",
        "      high NUMBER,\n",
        "      low NUMBER,\n",
        "      close NUMBER,\n",
        "      volume NUMBER\n",
        "    )\"\"\")\n",
        "\n",
        "    # Load records into the table\n",
        "    for r in records:\n",
        "        date = r['date']\n",
        "        symbol = r['symbol']\n",
        "        open_price = r['open']\n",
        "        high_price = r['high']\n",
        "        low_price = r['low']\n",
        "        close_price = r['close']\n",
        "        volume = r['volume']\n",
        "\n",
        "\n",
        "        print(f\"Inserting data for {date}: Open={open_price}, Symbol='{symbol}', High={high_price}, Low={low_price}, Close={close_price}, Volume={volume}\")\n",
        "\n",
        "        # Use parameterized INSERT INTO to avoid SQL injection and special character issues\n",
        "        sql = f\"\"\"\n",
        "        INSERT INTO {target_table} (date, symbol, open, high, low, close, volume)\n",
        "        VALUES (TO_DATE('{date}', 'YYYY-MM-DD'),'{symbol}', {open_price}, {high_price}, {low_price}, {close_price}, {volume})\n",
        "        \"\"\"\n",
        "\n",
        "        conn.execute(sql)\n",
        "\n",
        "# Get the Snowflake connection\n",
        "conn = return_snowflake_conn()\n",
        "\n",
        "# Load the data into the Snowflake table\n",
        "load(conn, price_list)\n"
      ],
      "metadata": {
        "colab": {
          "base_uri": "https://localhost:8080/"
        },
        "id": "V_6XqhljaprU",
        "outputId": "3224431a-2f25-4a8e-8a93-d366c979e69c"
      },
      "execution_count": null,
      "outputs": [
        {
          "output_type": "stream",
          "name": "stdout",
          "text": [
            "Inserting data for 2024-09-26: Open=435.0000, Symbol='MSFT', High=435.2400, Low=429.1300, Close=431.3100, Volume=14446507\n",
            "Inserting data for 2024-09-25: Open=429.8300, Symbol='MSFT', High=433.1190, Low=428.5700, Close=432.1100, Volume=13396364\n",
            "Inserting data for 2024-09-24: Open=433.0000, Symbol='MSFT', High=433.3500, Low=426.1000, Close=429.1700, Volume=17015754\n",
            "Inserting data for 2024-09-23: Open=434.2800, Symbol='MSFT', High=436.4600, Low=430.3889, Close=433.5100, Volume=15128891\n",
            "Inserting data for 2024-09-20: Open=437.2200, Symbol='MSFT', High=439.2400, Low=434.2200, Close=435.2700, Volume=55167106\n",
            "Inserting data for 2024-09-19: Open=441.2250, Symbol='MSFT', High=441.5000, Low=436.9000, Close=438.6900, Volume=21706559\n",
            "Inserting data for 2024-09-18: Open=435.0000, Symbol='MSFT', High=436.0300, Low=430.4100, Close=430.8100, Volume=18898042\n",
            "Inserting data for 2024-09-17: Open=440.2300, Symbol='MSFT', High=441.8500, Low=432.2700, Close=435.1500, Volume=18874231\n",
            "Inserting data for 2024-09-16: Open=430.6000, Symbol='MSFT', High=433.5300, Low=428.2200, Close=431.3400, Volume=13834697\n",
            "Inserting data for 2024-09-13: Open=425.8250, Symbol='MSFT', High=431.8300, Low=425.4600, Close=430.5900, Volume=15874555\n",
            "Inserting data for 2024-09-12: Open=423.3100, Symbol='MSFT', High=427.3692, Low=419.7500, Close=427.0000, Volume=17418759\n",
            "Inserting data for 2024-09-11: Open=415.5000, Symbol='MSFT', High=423.9900, Low=409.5800, Close=423.0400, Volume=19266923\n",
            "Inserting data for 2024-09-10: Open=408.2000, Symbol='MSFT', High=416.3300, Low=407.7000, Close=414.2000, Volume=19594287\n",
            "Inserting data for 2024-09-09: Open=407.2400, Symbol='MSFT', High=408.6500, Low=402.1500, Close=405.7200, Volume=15295134\n",
            "Inserting data for 2024-09-06: Open=409.0600, Symbol='MSFT', High=410.6500, Low=400.8000, Close=401.7000, Volume=19609526\n",
            "Inserting data for 2024-09-05: Open=407.6200, Symbol='MSFT', High=413.1000, Low=406.1300, Close=408.3900, Volume=14195516\n",
            "Inserting data for 2024-09-04: Open=405.9100, Symbol='MSFT', High=411.2400, Low=404.3700, Close=408.9000, Volume=14886710\n",
            "Inserting data for 2024-09-03: Open=417.9100, Symbol='MSFT', High=419.8800, Low=407.0300, Close=409.4400, Volume=20313603\n",
            "Inserting data for 2024-08-30: Open=415.6000, Symbol='MSFT', High=417.4900, Low=412.1300, Close=417.1400, Volume=24308324\n",
            "Inserting data for 2024-08-29: Open=414.9400, Symbol='MSFT', High=422.0500, Low=410.6000, Close=413.1200, Volume=17045241\n",
            "Inserting data for 2024-08-28: Open=414.8800, Symbol='MSFT', High=415.0000, Low=407.3100, Close=410.6000, Volume=14882660\n",
            "Inserting data for 2024-08-27: Open=412.8600, Symbol='MSFT', High=414.3600, Low=410.2500, Close=413.8400, Volume=13492911\n",
            "Inserting data for 2024-08-26: Open=416.3650, Symbol='MSFT', High=417.2799, Low=411.3400, Close=413.4900, Volume=13152830\n",
            "Inserting data for 2024-08-23: Open=416.9800, Symbol='MSFT', High=419.2600, Low=412.0900, Close=416.7900, Volume=18493784\n",
            "Inserting data for 2024-08-22: Open=424.3600, Symbol='MSFT', High=426.7899, Low=414.6100, Close=415.5500, Volume=19361901\n",
            "Inserting data for 2024-08-21: Open=424.0750, Symbol='MSFT', High=426.4000, Low=421.7200, Close=424.1400, Volume=16067298\n",
            "Inserting data for 2024-08-20: Open=421.7000, Symbol='MSFT', High=425.8600, Low=421.6400, Close=424.8000, Volume=16387581\n",
            "Inserting data for 2024-08-19: Open=418.9600, Symbol='MSFT', High=421.7500, Low=416.4600, Close=421.5300, Volume=15233957\n",
            "Inserting data for 2024-08-16: Open=420.6000, Symbol='MSFT', High=421.3400, Low=417.3000, Close=418.4700, Volume=22775593\n",
            "Inserting data for 2024-08-15: Open=419.8000, Symbol='MSFT', High=421.1100, Low=417.6600, Close=421.0300, Volume=20752144\n",
            "Inserting data for 2024-08-14: Open=414.8000, Symbol='MSFT', High=417.7200, Low=412.4456, Close=416.8600, Volume=18266980\n",
            "Inserting data for 2024-08-13: Open=409.5900, Symbol='MSFT', High=414.9500, Low=409.5700, Close=414.0100, Volume=19414271\n",
            "Inserting data for 2024-08-12: Open=407.0600, Symbol='MSFT', High=408.7600, Low=404.2434, Close=406.8100, Volume=16762883\n",
            "Inserting data for 2024-08-09: Open=404.0300, Symbol='MSFT', High=408.0500, Low=402.2624, Close=406.0200, Volume=19276666\n",
            "Inserting data for 2024-08-08: Open=402.4400, Symbol='MSFT', High=405.8600, Low=399.9407, Close=402.6900, Volume=20203030\n",
            "Inserting data for 2024-08-07: Open=408.6350, Symbol='MSFT', High=410.0800, Low=397.4700, Close=398.4300, Volume=20650906\n",
            "Inserting data for 2024-08-06: Open=400.0000, Symbol='MSFT', High=405.6700, Low=398.5000, Close=399.6100, Volume=24946525\n",
            "Inserting data for 2024-08-05: Open=389.1700, Symbol='MSFT', High=401.0400, Low=385.5800, Close=395.1500, Volume=40709238\n",
            "Inserting data for 2024-08-02: Open=412.4900, Symbol='MSFT', High=415.0000, Low=404.3400, Close=408.4900, Volume=29437900\n",
            "Inserting data for 2024-08-01: Open=420.7850, Symbol='MSFT', High=427.4600, Low=413.0901, Close=417.1100, Volume=30296400\n",
            "Inserting data for 2024-07-31: Open=420.4950, Symbol='MSFT', High=421.7750, Low=412.2100, Close=418.3500, Volume=42891366\n",
            "Inserting data for 2024-07-30: Open=427.7200, Symbol='MSFT', High=429.0500, Low=417.3600, Close=422.9200, Volume=32687578\n",
            "Inserting data for 2024-07-29: Open=431.5800, Symbol='MSFT', High=432.1500, Low=424.7042, Close=426.7300, Volume=15125836\n",
            "Inserting data for 2024-07-26: Open=418.2000, Symbol='MSFT', High=428.9150, Low=417.2700, Close=425.2700, Volume=23583839\n",
            "Inserting data for 2024-07-25: Open=428.8000, Symbol='MSFT', High=429.8000, Low=417.5100, Close=418.4000, Volume=29943795\n",
            "Inserting data for 2024-07-24: Open=440.4500, Symbol='MSFT', High=441.4800, Low=427.5850, Close=428.9000, Volume=26805800\n",
            "Inserting data for 2024-07-23: Open=443.8950, Symbol='MSFT', High=448.3900, Low=443.1000, Close=444.8500, Volume=13107050\n",
            "Inserting data for 2024-07-22: Open=441.7900, Symbol='MSFT', High=444.6000, Low=438.9125, Close=442.9400, Volume=15808755\n",
            "Inserting data for 2024-07-19: Open=433.1000, Symbol='MSFT', High=441.1400, Low=432.0000, Close=437.1100, Volume=20940417\n",
            "Inserting data for 2024-07-18: Open=444.3400, Symbol='MSFT', High=444.6500, Low=434.4000, Close=440.3700, Volume=20794822\n",
            "Inserting data for 2024-07-17: Open=442.5900, Symbol='MSFT', High=444.8500, Low=439.1800, Close=443.5200, Volume=21754021\n",
            "Inserting data for 2024-07-16: Open=454.2200, Symbol='MSFT', High=454.3000, Low=446.6600, Close=449.5200, Volume=17175679\n",
            "Inserting data for 2024-07-15: Open=453.3000, Symbol='MSFT', High=457.2600, Low=451.4300, Close=453.9600, Volume=14429447\n",
            "Inserting data for 2024-07-12: Open=454.3250, Symbol='MSFT', High=456.3600, Low=450.6450, Close=453.5500, Volume=16324274\n",
            "Inserting data for 2024-07-11: Open=462.9800, Symbol='MSFT', High=464.7800, Low=451.5500, Close=454.7000, Volume=23111175\n",
            "Inserting data for 2024-07-10: Open=461.2200, Symbol='MSFT', High=466.4600, Low=458.8550, Close=466.2500, Volume=18196100\n",
            "Inserting data for 2024-07-09: Open=467.0000, Symbol='MSFT', High=467.3300, Low=458.0000, Close=459.5400, Volume=17228507\n",
            "Inserting data for 2024-07-08: Open=466.5500, Symbol='MSFT', High=467.7000, Low=464.4600, Close=466.2400, Volume=12962321\n",
            "Inserting data for 2024-07-05: Open=459.6100, Symbol='MSFT', High=468.3500, Low=458.9650, Close=467.5600, Volume=16000290\n",
            "Inserting data for 2024-07-03: Open=458.1900, Symbol='MSFT', High=461.0200, Low=457.8800, Close=460.7700, Volume=9932830\n",
            "Inserting data for 2024-07-02: Open=453.2000, Symbol='MSFT', High=459.5900, Low=453.1130, Close=459.2800, Volume=13979779\n",
            "Inserting data for 2024-07-01: Open=448.6600, Symbol='MSFT', High=457.3700, Low=445.6600, Close=456.7300, Volume=17662818\n"
          ]
        }
      ]
    },
    {
      "cell_type": "markdown",
      "source": [
        "Using try/except in below block"
      ],
      "metadata": {
        "id": "SEbqejzNfe6f"
      }
    },
    {
      "cell_type": "code",
      "source": [
        "# This function returns a list of price data for the last 90 days\n",
        "price_list = return_last_90d_price(\"MSFT\")  # This should give you the structured data\n",
        "\n",
        "def load(con, records):\n",
        "    # Check if records is empty\n",
        "    if not records:\n",
        "        print(\"No records to load.\")\n",
        "        return  # Exit if there are no records\n",
        "\n",
        "    # Define the target table for price data\n",
        "    target_table = \"demoAPI.raw_data.stock_price\"\n",
        "\n",
        "    try:\n",
        "        # Start the transaction\n",
        "        con.execute(\"BEGIN;\")\n",
        "\n",
        "        # Create or replace the table\n",
        "        con.execute(f\"\"\"\n",
        "        CREATE OR REPLACE TABLE {target_table} (\n",
        "          date DATE Primary Key,\n",
        "          symbol VARCHAR,\n",
        "          open NUMBER,\n",
        "          high NUMBER,\n",
        "          low NUMBER,\n",
        "          close NUMBER,\n",
        "          volume NUMBER\n",
        "        )\n",
        "        \"\"\")\n",
        "\n",
        "        # Load records into the table\n",
        "        for r in records:\n",
        "            date = r['date']\n",
        "            open_price = r['open']\n",
        "            high_price = r['high']\n",
        "            low_price = r['low']\n",
        "            close_price = r['close']\n",
        "            volume = r['volume']\n",
        "\n",
        "            print(f\"Inserting data for {date}: Open={open_price}, High={high_price}, Low={low_price}, Close={close_price}, Volume={volume}\")\n",
        "\n",
        "            # Use parameterized INSERT INTO to avoid SQL injection and special character issues\n",
        "            sql = f\"\"\"\n",
        "            INSERT INTO {target_table} (date, symbol, open, high, low, close, volume)\n",
        "            VALUES (TO_DATE('{date}', 'YYYY-MM-DD'),'{symbol}', {open_price}, {high_price}, {low_price}, {close_price}, {volume})\n",
        "            \"\"\"\n",
        "\n",
        "            con.execute(sql)\n",
        "\n",
        "        # Commit the transaction\n",
        "        con.execute(\"COMMIT;\")\n",
        "\n",
        "    except Exception as e:\n",
        "        # Rollback the transaction in case of an error\n",
        "        con.execute(\"ROLLBACK;\")\n",
        "        print(\"An error occurred while loading data:\", e)\n",
        "        raise e  # Re-raise the exception for further handling if needed\n",
        "\n",
        "# Get the Snowflake connection\n",
        "conn = return_snowflake_conn()\n",
        "\n",
        "# Load the data into the Snowflake table\n",
        "load(conn, price_list)\n",
        "\n",
        "\n"
      ],
      "metadata": {
        "colab": {
          "base_uri": "https://localhost:8080/"
        },
        "id": "IbfuC62XseES",
        "outputId": "ad0fc829-a7df-40f7-adce-8a00c2225f8a"
      },
      "execution_count": null,
      "outputs": [
        {
          "output_type": "stream",
          "name": "stdout",
          "text": [
            "Inserting data for 2024-09-25: Open=429.8300, High=433.1190, Low=428.5700, Close=432.1100, Volume=13396364\n",
            "Inserting data for 2024-09-24: Open=433.0000, High=433.3500, Low=426.1000, Close=429.1700, Volume=17015754\n",
            "Inserting data for 2024-09-23: Open=434.2800, High=436.4600, Low=430.3889, Close=433.5100, Volume=15128891\n",
            "Inserting data for 2024-09-20: Open=437.2200, High=439.2400, Low=434.2200, Close=435.2700, Volume=55167106\n",
            "Inserting data for 2024-09-19: Open=441.2250, High=441.5000, Low=436.9000, Close=438.6900, Volume=21706559\n",
            "Inserting data for 2024-09-18: Open=435.0000, High=436.0300, Low=430.4100, Close=430.8100, Volume=18898042\n",
            "Inserting data for 2024-09-17: Open=440.2300, High=441.8500, Low=432.2700, Close=435.1500, Volume=18874231\n",
            "Inserting data for 2024-09-16: Open=430.6000, High=433.5300, Low=428.2200, Close=431.3400, Volume=13834697\n",
            "Inserting data for 2024-09-13: Open=425.8250, High=431.8300, Low=425.4600, Close=430.5900, Volume=15874555\n",
            "Inserting data for 2024-09-12: Open=423.3100, High=427.3692, Low=419.7500, Close=427.0000, Volume=17418759\n",
            "Inserting data for 2024-09-11: Open=415.5000, High=423.9900, Low=409.5800, Close=423.0400, Volume=19266923\n",
            "Inserting data for 2024-09-10: Open=408.2000, High=416.3300, Low=407.7000, Close=414.2000, Volume=19594287\n",
            "Inserting data for 2024-09-09: Open=407.2400, High=408.6500, Low=402.1500, Close=405.7200, Volume=15295134\n",
            "Inserting data for 2024-09-06: Open=409.0600, High=410.6500, Low=400.8000, Close=401.7000, Volume=19609526\n",
            "Inserting data for 2024-09-05: Open=407.6200, High=413.1000, Low=406.1300, Close=408.3900, Volume=14195516\n",
            "Inserting data for 2024-09-04: Open=405.9100, High=411.2400, Low=404.3700, Close=408.9000, Volume=14886710\n",
            "Inserting data for 2024-09-03: Open=417.9100, High=419.8800, Low=407.0300, Close=409.4400, Volume=20313603\n",
            "Inserting data for 2024-08-30: Open=415.6000, High=417.4900, Low=412.1300, Close=417.1400, Volume=24308324\n",
            "Inserting data for 2024-08-29: Open=414.9400, High=422.0500, Low=410.6000, Close=413.1200, Volume=17045241\n",
            "Inserting data for 2024-08-28: Open=414.8800, High=415.0000, Low=407.3100, Close=410.6000, Volume=14882660\n",
            "Inserting data for 2024-08-27: Open=412.8600, High=414.3600, Low=410.2500, Close=413.8400, Volume=13492911\n",
            "Inserting data for 2024-08-26: Open=416.3650, High=417.2799, Low=411.3400, Close=413.4900, Volume=13152830\n",
            "Inserting data for 2024-08-23: Open=416.9800, High=419.2600, Low=412.0900, Close=416.7900, Volume=18493784\n",
            "Inserting data for 2024-08-22: Open=424.3600, High=426.7899, Low=414.6100, Close=415.5500, Volume=19361901\n",
            "Inserting data for 2024-08-21: Open=424.0750, High=426.4000, Low=421.7200, Close=424.1400, Volume=16067298\n",
            "Inserting data for 2024-08-20: Open=421.7000, High=425.8600, Low=421.6400, Close=424.8000, Volume=16387581\n",
            "Inserting data for 2024-08-19: Open=418.9600, High=421.7500, Low=416.4600, Close=421.5300, Volume=15233957\n",
            "Inserting data for 2024-08-16: Open=420.6000, High=421.3400, Low=417.3000, Close=418.4700, Volume=22775593\n",
            "Inserting data for 2024-08-15: Open=419.8000, High=421.1100, Low=417.6600, Close=421.0300, Volume=20752144\n",
            "Inserting data for 2024-08-14: Open=414.8000, High=417.7200, Low=412.4456, Close=416.8600, Volume=18266980\n",
            "Inserting data for 2024-08-13: Open=409.5900, High=414.9500, Low=409.5700, Close=414.0100, Volume=19414271\n",
            "Inserting data for 2024-08-12: Open=407.0600, High=408.7600, Low=404.2434, Close=406.8100, Volume=16762883\n",
            "Inserting data for 2024-08-09: Open=404.0300, High=408.0500, Low=402.2624, Close=406.0200, Volume=19276666\n",
            "Inserting data for 2024-08-08: Open=402.4400, High=405.8600, Low=399.9407, Close=402.6900, Volume=20203030\n",
            "Inserting data for 2024-08-07: Open=408.6350, High=410.0800, Low=397.4700, Close=398.4300, Volume=20650906\n",
            "Inserting data for 2024-08-06: Open=400.0000, High=405.6700, Low=398.5000, Close=399.6100, Volume=24946525\n",
            "Inserting data for 2024-08-05: Open=389.1700, High=401.0400, Low=385.5800, Close=395.1500, Volume=40709238\n",
            "Inserting data for 2024-08-02: Open=412.4900, High=415.0000, Low=404.3400, Close=408.4900, Volume=29437900\n",
            "Inserting data for 2024-08-01: Open=420.7850, High=427.4600, Low=413.0901, Close=417.1100, Volume=30296400\n",
            "Inserting data for 2024-07-31: Open=420.4950, High=421.7750, Low=412.2100, Close=418.3500, Volume=42891366\n",
            "Inserting data for 2024-07-30: Open=427.7200, High=429.0500, Low=417.3600, Close=422.9200, Volume=32687578\n",
            "Inserting data for 2024-07-29: Open=431.5800, High=432.1500, Low=424.7042, Close=426.7300, Volume=15125836\n",
            "Inserting data for 2024-07-26: Open=418.2000, High=428.9150, Low=417.2700, Close=425.2700, Volume=23583839\n",
            "Inserting data for 2024-07-25: Open=428.8000, High=429.8000, Low=417.5100, Close=418.4000, Volume=29943795\n",
            "Inserting data for 2024-07-24: Open=440.4500, High=441.4800, Low=427.5850, Close=428.9000, Volume=26805800\n",
            "Inserting data for 2024-07-23: Open=443.8950, High=448.3900, Low=443.1000, Close=444.8500, Volume=13107050\n",
            "Inserting data for 2024-07-22: Open=441.7900, High=444.6000, Low=438.9125, Close=442.9400, Volume=15808755\n",
            "Inserting data for 2024-07-19: Open=433.1000, High=441.1400, Low=432.0000, Close=437.1100, Volume=20940417\n",
            "Inserting data for 2024-07-18: Open=444.3400, High=444.6500, Low=434.4000, Close=440.3700, Volume=20794822\n",
            "Inserting data for 2024-07-17: Open=442.5900, High=444.8500, Low=439.1800, Close=443.5200, Volume=21754021\n",
            "Inserting data for 2024-07-16: Open=454.2200, High=454.3000, Low=446.6600, Close=449.5200, Volume=17175679\n",
            "Inserting data for 2024-07-15: Open=453.3000, High=457.2600, Low=451.4300, Close=453.9600, Volume=14429447\n",
            "Inserting data for 2024-07-12: Open=454.3250, High=456.3600, Low=450.6450, Close=453.5500, Volume=16324274\n",
            "Inserting data for 2024-07-11: Open=462.9800, High=464.7800, Low=451.5500, Close=454.7000, Volume=23111175\n",
            "Inserting data for 2024-07-10: Open=461.2200, High=466.4600, Low=458.8550, Close=466.2500, Volume=18196100\n",
            "Inserting data for 2024-07-09: Open=467.0000, High=467.3300, Low=458.0000, Close=459.5400, Volume=17228507\n",
            "Inserting data for 2024-07-08: Open=466.5500, High=467.7000, Low=464.4600, Close=466.2400, Volume=12962321\n",
            "Inserting data for 2024-07-05: Open=459.6100, High=468.3500, Low=458.9650, Close=467.5600, Volume=16000290\n",
            "Inserting data for 2024-07-03: Open=458.1900, High=461.0200, Low=457.8800, Close=460.7700, Volume=9932830\n",
            "Inserting data for 2024-07-02: Open=453.2000, High=459.5900, Low=453.1130, Close=459.2800, Volume=13979779\n",
            "Inserting data for 2024-07-01: Open=448.6600, High=457.3700, Low=445.6600, Close=456.7300, Volume=17662818\n"
          ]
        }
      ]
    },
    {
      "cell_type": "markdown",
      "source": [
        "Ensuring Idempotency by running the load function twice:\n"
      ],
      "metadata": {
        "id": "KHSgYzqEcE9p"
      }
    },
    {
      "cell_type": "code",
      "source": [
        "def check_record_count(con):\n",
        "    target_table = \"demoAPI.raw_data.stock_price\"\n",
        "    result = con.execute(f\"SELECT COUNT(*) FROM {target_table}\").fetchone()\n",
        "    return result[0]"
      ],
      "metadata": {
        "id": "JO3nINgtSTsP"
      },
      "execution_count": null,
      "outputs": []
    },
    {
      "cell_type": "code",
      "source": [
        "# Get Snowflake connection\n",
        "conn = return_snowflake_conn()\n",
        "\n",
        "# Check initial record count\n",
        "initial_count = check_record_count(conn)\n",
        "print(f\"Initial record count: {initial_count}\")\n",
        "\n",
        "# Load data twice\n",
        "load(conn, price_list)\n",
        "first_load_count = check_record_count(conn)\n",
        "print(f\"Record count after first load: {first_load_count}\")\n",
        "\n",
        "load(conn, price_list)\n",
        "second_load_count = check_record_count(conn)\n",
        "print(f\"Record count after second load: {second_load_count}\")\n",
        "\n",
        "# Validate idempotency\n",
        "if first_load_count == second_load_count:\n",
        "    print(\"Idempotent: record counts are consistent.\")\n",
        "else:\n",
        "    print(\"Not idempotent: record counts differ.\")"
      ],
      "metadata": {
        "id": "0qdUVBYPjLG-",
        "colab": {
          "base_uri": "https://localhost:8080/"
        },
        "outputId": "2799c2a3-424d-40c0-f2fa-3962f5699111"
      },
      "execution_count": null,
      "outputs": [
        {
          "output_type": "stream",
          "name": "stdout",
          "text": [
            "Initial record count: 61\n",
            "Inserting data for 2024-09-25: Open=429.8300, Symbol='MSFT', High=433.1190, Low=428.5700, Close=432.1100, Volume=13396364\n",
            "Inserting data for 2024-09-24: Open=433.0000, Symbol='MSFT', High=433.3500, Low=426.1000, Close=429.1700, Volume=17015754\n",
            "Inserting data for 2024-09-23: Open=434.2800, Symbol='MSFT', High=436.4600, Low=430.3889, Close=433.5100, Volume=15128891\n",
            "Inserting data for 2024-09-20: Open=437.2200, Symbol='MSFT', High=439.2400, Low=434.2200, Close=435.2700, Volume=55167106\n",
            "Inserting data for 2024-09-19: Open=441.2250, Symbol='MSFT', High=441.5000, Low=436.9000, Close=438.6900, Volume=21706559\n",
            "Inserting data for 2024-09-18: Open=435.0000, Symbol='MSFT', High=436.0300, Low=430.4100, Close=430.8100, Volume=18898042\n",
            "Inserting data for 2024-09-17: Open=440.2300, Symbol='MSFT', High=441.8500, Low=432.2700, Close=435.1500, Volume=18874231\n",
            "Inserting data for 2024-09-16: Open=430.6000, Symbol='MSFT', High=433.5300, Low=428.2200, Close=431.3400, Volume=13834697\n",
            "Inserting data for 2024-09-13: Open=425.8250, Symbol='MSFT', High=431.8300, Low=425.4600, Close=430.5900, Volume=15874555\n",
            "Inserting data for 2024-09-12: Open=423.3100, Symbol='MSFT', High=427.3692, Low=419.7500, Close=427.0000, Volume=17418759\n",
            "Inserting data for 2024-09-11: Open=415.5000, Symbol='MSFT', High=423.9900, Low=409.5800, Close=423.0400, Volume=19266923\n",
            "Inserting data for 2024-09-10: Open=408.2000, Symbol='MSFT', High=416.3300, Low=407.7000, Close=414.2000, Volume=19594287\n",
            "Inserting data for 2024-09-09: Open=407.2400, Symbol='MSFT', High=408.6500, Low=402.1500, Close=405.7200, Volume=15295134\n",
            "Inserting data for 2024-09-06: Open=409.0600, Symbol='MSFT', High=410.6500, Low=400.8000, Close=401.7000, Volume=19609526\n",
            "Inserting data for 2024-09-05: Open=407.6200, Symbol='MSFT', High=413.1000, Low=406.1300, Close=408.3900, Volume=14195516\n",
            "Inserting data for 2024-09-04: Open=405.9100, Symbol='MSFT', High=411.2400, Low=404.3700, Close=408.9000, Volume=14886710\n",
            "Inserting data for 2024-09-03: Open=417.9100, Symbol='MSFT', High=419.8800, Low=407.0300, Close=409.4400, Volume=20313603\n",
            "Inserting data for 2024-08-30: Open=415.6000, Symbol='MSFT', High=417.4900, Low=412.1300, Close=417.1400, Volume=24308324\n",
            "Inserting data for 2024-08-29: Open=414.9400, Symbol='MSFT', High=422.0500, Low=410.6000, Close=413.1200, Volume=17045241\n",
            "Inserting data for 2024-08-28: Open=414.8800, Symbol='MSFT', High=415.0000, Low=407.3100, Close=410.6000, Volume=14882660\n",
            "Inserting data for 2024-08-27: Open=412.8600, Symbol='MSFT', High=414.3600, Low=410.2500, Close=413.8400, Volume=13492911\n",
            "Inserting data for 2024-08-26: Open=416.3650, Symbol='MSFT', High=417.2799, Low=411.3400, Close=413.4900, Volume=13152830\n",
            "Inserting data for 2024-08-23: Open=416.9800, Symbol='MSFT', High=419.2600, Low=412.0900, Close=416.7900, Volume=18493784\n",
            "Inserting data for 2024-08-22: Open=424.3600, Symbol='MSFT', High=426.7899, Low=414.6100, Close=415.5500, Volume=19361901\n",
            "Inserting data for 2024-08-21: Open=424.0750, Symbol='MSFT', High=426.4000, Low=421.7200, Close=424.1400, Volume=16067298\n",
            "Inserting data for 2024-08-20: Open=421.7000, Symbol='MSFT', High=425.8600, Low=421.6400, Close=424.8000, Volume=16387581\n",
            "Inserting data for 2024-08-19: Open=418.9600, Symbol='MSFT', High=421.7500, Low=416.4600, Close=421.5300, Volume=15233957\n",
            "Inserting data for 2024-08-16: Open=420.6000, Symbol='MSFT', High=421.3400, Low=417.3000, Close=418.4700, Volume=22775593\n",
            "Inserting data for 2024-08-15: Open=419.8000, Symbol='MSFT', High=421.1100, Low=417.6600, Close=421.0300, Volume=20752144\n",
            "Inserting data for 2024-08-14: Open=414.8000, Symbol='MSFT', High=417.7200, Low=412.4456, Close=416.8600, Volume=18266980\n",
            "Inserting data for 2024-08-13: Open=409.5900, Symbol='MSFT', High=414.9500, Low=409.5700, Close=414.0100, Volume=19414271\n",
            "Inserting data for 2024-08-12: Open=407.0600, Symbol='MSFT', High=408.7600, Low=404.2434, Close=406.8100, Volume=16762883\n",
            "Inserting data for 2024-08-09: Open=404.0300, Symbol='MSFT', High=408.0500, Low=402.2624, Close=406.0200, Volume=19276666\n",
            "Inserting data for 2024-08-08: Open=402.4400, Symbol='MSFT', High=405.8600, Low=399.9407, Close=402.6900, Volume=20203030\n",
            "Inserting data for 2024-08-07: Open=408.6350, Symbol='MSFT', High=410.0800, Low=397.4700, Close=398.4300, Volume=20650906\n",
            "Inserting data for 2024-08-06: Open=400.0000, Symbol='MSFT', High=405.6700, Low=398.5000, Close=399.6100, Volume=24946525\n",
            "Inserting data for 2024-08-05: Open=389.1700, Symbol='MSFT', High=401.0400, Low=385.5800, Close=395.1500, Volume=40709238\n",
            "Inserting data for 2024-08-02: Open=412.4900, Symbol='MSFT', High=415.0000, Low=404.3400, Close=408.4900, Volume=29437900\n",
            "Inserting data for 2024-08-01: Open=420.7850, Symbol='MSFT', High=427.4600, Low=413.0901, Close=417.1100, Volume=30296400\n",
            "Inserting data for 2024-07-31: Open=420.4950, Symbol='MSFT', High=421.7750, Low=412.2100, Close=418.3500, Volume=42891366\n",
            "Inserting data for 2024-07-30: Open=427.7200, Symbol='MSFT', High=429.0500, Low=417.3600, Close=422.9200, Volume=32687578\n",
            "Inserting data for 2024-07-29: Open=431.5800, Symbol='MSFT', High=432.1500, Low=424.7042, Close=426.7300, Volume=15125836\n",
            "Inserting data for 2024-07-26: Open=418.2000, Symbol='MSFT', High=428.9150, Low=417.2700, Close=425.2700, Volume=23583839\n",
            "Inserting data for 2024-07-25: Open=428.8000, Symbol='MSFT', High=429.8000, Low=417.5100, Close=418.4000, Volume=29943795\n",
            "Inserting data for 2024-07-24: Open=440.4500, Symbol='MSFT', High=441.4800, Low=427.5850, Close=428.9000, Volume=26805800\n",
            "Inserting data for 2024-07-23: Open=443.8950, Symbol='MSFT', High=448.3900, Low=443.1000, Close=444.8500, Volume=13107050\n",
            "Inserting data for 2024-07-22: Open=441.7900, Symbol='MSFT', High=444.6000, Low=438.9125, Close=442.9400, Volume=15808755\n",
            "Inserting data for 2024-07-19: Open=433.1000, Symbol='MSFT', High=441.1400, Low=432.0000, Close=437.1100, Volume=20940417\n",
            "Inserting data for 2024-07-18: Open=444.3400, Symbol='MSFT', High=444.6500, Low=434.4000, Close=440.3700, Volume=20794822\n",
            "Inserting data for 2024-07-17: Open=442.5900, Symbol='MSFT', High=444.8500, Low=439.1800, Close=443.5200, Volume=21754021\n",
            "Inserting data for 2024-07-16: Open=454.2200, Symbol='MSFT', High=454.3000, Low=446.6600, Close=449.5200, Volume=17175679\n",
            "Inserting data for 2024-07-15: Open=453.3000, Symbol='MSFT', High=457.2600, Low=451.4300, Close=453.9600, Volume=14429447\n",
            "Inserting data for 2024-07-12: Open=454.3250, Symbol='MSFT', High=456.3600, Low=450.6450, Close=453.5500, Volume=16324274\n",
            "Inserting data for 2024-07-11: Open=462.9800, Symbol='MSFT', High=464.7800, Low=451.5500, Close=454.7000, Volume=23111175\n",
            "Inserting data for 2024-07-10: Open=461.2200, Symbol='MSFT', High=466.4600, Low=458.8550, Close=466.2500, Volume=18196100\n",
            "Inserting data for 2024-07-09: Open=467.0000, Symbol='MSFT', High=467.3300, Low=458.0000, Close=459.5400, Volume=17228507\n",
            "Inserting data for 2024-07-08: Open=466.5500, Symbol='MSFT', High=467.7000, Low=464.4600, Close=466.2400, Volume=12962321\n",
            "Inserting data for 2024-07-05: Open=459.6100, Symbol='MSFT', High=468.3500, Low=458.9650, Close=467.5600, Volume=16000290\n",
            "Inserting data for 2024-07-03: Open=458.1900, Symbol='MSFT', High=461.0200, Low=457.8800, Close=460.7700, Volume=9932830\n",
            "Inserting data for 2024-07-02: Open=453.2000, Symbol='MSFT', High=459.5900, Low=453.1130, Close=459.2800, Volume=13979779\n",
            "Inserting data for 2024-07-01: Open=448.6600, Symbol='MSFT', High=457.3700, Low=445.6600, Close=456.7300, Volume=17662818\n",
            "Record count after first load: 61\n",
            "Inserting data for 2024-09-25: Open=429.8300, Symbol='MSFT', High=433.1190, Low=428.5700, Close=432.1100, Volume=13396364\n",
            "Inserting data for 2024-09-24: Open=433.0000, Symbol='MSFT', High=433.3500, Low=426.1000, Close=429.1700, Volume=17015754\n",
            "Inserting data for 2024-09-23: Open=434.2800, Symbol='MSFT', High=436.4600, Low=430.3889, Close=433.5100, Volume=15128891\n",
            "Inserting data for 2024-09-20: Open=437.2200, Symbol='MSFT', High=439.2400, Low=434.2200, Close=435.2700, Volume=55167106\n",
            "Inserting data for 2024-09-19: Open=441.2250, Symbol='MSFT', High=441.5000, Low=436.9000, Close=438.6900, Volume=21706559\n",
            "Inserting data for 2024-09-18: Open=435.0000, Symbol='MSFT', High=436.0300, Low=430.4100, Close=430.8100, Volume=18898042\n",
            "Inserting data for 2024-09-17: Open=440.2300, Symbol='MSFT', High=441.8500, Low=432.2700, Close=435.1500, Volume=18874231\n",
            "Inserting data for 2024-09-16: Open=430.6000, Symbol='MSFT', High=433.5300, Low=428.2200, Close=431.3400, Volume=13834697\n",
            "Inserting data for 2024-09-13: Open=425.8250, Symbol='MSFT', High=431.8300, Low=425.4600, Close=430.5900, Volume=15874555\n",
            "Inserting data for 2024-09-12: Open=423.3100, Symbol='MSFT', High=427.3692, Low=419.7500, Close=427.0000, Volume=17418759\n",
            "Inserting data for 2024-09-11: Open=415.5000, Symbol='MSFT', High=423.9900, Low=409.5800, Close=423.0400, Volume=19266923\n",
            "Inserting data for 2024-09-10: Open=408.2000, Symbol='MSFT', High=416.3300, Low=407.7000, Close=414.2000, Volume=19594287\n",
            "Inserting data for 2024-09-09: Open=407.2400, Symbol='MSFT', High=408.6500, Low=402.1500, Close=405.7200, Volume=15295134\n",
            "Inserting data for 2024-09-06: Open=409.0600, Symbol='MSFT', High=410.6500, Low=400.8000, Close=401.7000, Volume=19609526\n",
            "Inserting data for 2024-09-05: Open=407.6200, Symbol='MSFT', High=413.1000, Low=406.1300, Close=408.3900, Volume=14195516\n",
            "Inserting data for 2024-09-04: Open=405.9100, Symbol='MSFT', High=411.2400, Low=404.3700, Close=408.9000, Volume=14886710\n",
            "Inserting data for 2024-09-03: Open=417.9100, Symbol='MSFT', High=419.8800, Low=407.0300, Close=409.4400, Volume=20313603\n",
            "Inserting data for 2024-08-30: Open=415.6000, Symbol='MSFT', High=417.4900, Low=412.1300, Close=417.1400, Volume=24308324\n",
            "Inserting data for 2024-08-29: Open=414.9400, Symbol='MSFT', High=422.0500, Low=410.6000, Close=413.1200, Volume=17045241\n",
            "Inserting data for 2024-08-28: Open=414.8800, Symbol='MSFT', High=415.0000, Low=407.3100, Close=410.6000, Volume=14882660\n",
            "Inserting data for 2024-08-27: Open=412.8600, Symbol='MSFT', High=414.3600, Low=410.2500, Close=413.8400, Volume=13492911\n",
            "Inserting data for 2024-08-26: Open=416.3650, Symbol='MSFT', High=417.2799, Low=411.3400, Close=413.4900, Volume=13152830\n",
            "Inserting data for 2024-08-23: Open=416.9800, Symbol='MSFT', High=419.2600, Low=412.0900, Close=416.7900, Volume=18493784\n",
            "Inserting data for 2024-08-22: Open=424.3600, Symbol='MSFT', High=426.7899, Low=414.6100, Close=415.5500, Volume=19361901\n",
            "Inserting data for 2024-08-21: Open=424.0750, Symbol='MSFT', High=426.4000, Low=421.7200, Close=424.1400, Volume=16067298\n",
            "Inserting data for 2024-08-20: Open=421.7000, Symbol='MSFT', High=425.8600, Low=421.6400, Close=424.8000, Volume=16387581\n",
            "Inserting data for 2024-08-19: Open=418.9600, Symbol='MSFT', High=421.7500, Low=416.4600, Close=421.5300, Volume=15233957\n",
            "Inserting data for 2024-08-16: Open=420.6000, Symbol='MSFT', High=421.3400, Low=417.3000, Close=418.4700, Volume=22775593\n",
            "Inserting data for 2024-08-15: Open=419.8000, Symbol='MSFT', High=421.1100, Low=417.6600, Close=421.0300, Volume=20752144\n",
            "Inserting data for 2024-08-14: Open=414.8000, Symbol='MSFT', High=417.7200, Low=412.4456, Close=416.8600, Volume=18266980\n",
            "Inserting data for 2024-08-13: Open=409.5900, Symbol='MSFT', High=414.9500, Low=409.5700, Close=414.0100, Volume=19414271\n",
            "Inserting data for 2024-08-12: Open=407.0600, Symbol='MSFT', High=408.7600, Low=404.2434, Close=406.8100, Volume=16762883\n",
            "Inserting data for 2024-08-09: Open=404.0300, Symbol='MSFT', High=408.0500, Low=402.2624, Close=406.0200, Volume=19276666\n",
            "Inserting data for 2024-08-08: Open=402.4400, Symbol='MSFT', High=405.8600, Low=399.9407, Close=402.6900, Volume=20203030\n",
            "Inserting data for 2024-08-07: Open=408.6350, Symbol='MSFT', High=410.0800, Low=397.4700, Close=398.4300, Volume=20650906\n",
            "Inserting data for 2024-08-06: Open=400.0000, Symbol='MSFT', High=405.6700, Low=398.5000, Close=399.6100, Volume=24946525\n",
            "Inserting data for 2024-08-05: Open=389.1700, Symbol='MSFT', High=401.0400, Low=385.5800, Close=395.1500, Volume=40709238\n",
            "Inserting data for 2024-08-02: Open=412.4900, Symbol='MSFT', High=415.0000, Low=404.3400, Close=408.4900, Volume=29437900\n",
            "Inserting data for 2024-08-01: Open=420.7850, Symbol='MSFT', High=427.4600, Low=413.0901, Close=417.1100, Volume=30296400\n",
            "Inserting data for 2024-07-31: Open=420.4950, Symbol='MSFT', High=421.7750, Low=412.2100, Close=418.3500, Volume=42891366\n",
            "Inserting data for 2024-07-30: Open=427.7200, Symbol='MSFT', High=429.0500, Low=417.3600, Close=422.9200, Volume=32687578\n",
            "Inserting data for 2024-07-29: Open=431.5800, Symbol='MSFT', High=432.1500, Low=424.7042, Close=426.7300, Volume=15125836\n",
            "Inserting data for 2024-07-26: Open=418.2000, Symbol='MSFT', High=428.9150, Low=417.2700, Close=425.2700, Volume=23583839\n",
            "Inserting data for 2024-07-25: Open=428.8000, Symbol='MSFT', High=429.8000, Low=417.5100, Close=418.4000, Volume=29943795\n",
            "Inserting data for 2024-07-24: Open=440.4500, Symbol='MSFT', High=441.4800, Low=427.5850, Close=428.9000, Volume=26805800\n",
            "Inserting data for 2024-07-23: Open=443.8950, Symbol='MSFT', High=448.3900, Low=443.1000, Close=444.8500, Volume=13107050\n",
            "Inserting data for 2024-07-22: Open=441.7900, Symbol='MSFT', High=444.6000, Low=438.9125, Close=442.9400, Volume=15808755\n",
            "Inserting data for 2024-07-19: Open=433.1000, Symbol='MSFT', High=441.1400, Low=432.0000, Close=437.1100, Volume=20940417\n",
            "Inserting data for 2024-07-18: Open=444.3400, Symbol='MSFT', High=444.6500, Low=434.4000, Close=440.3700, Volume=20794822\n",
            "Inserting data for 2024-07-17: Open=442.5900, Symbol='MSFT', High=444.8500, Low=439.1800, Close=443.5200, Volume=21754021\n",
            "Inserting data for 2024-07-16: Open=454.2200, Symbol='MSFT', High=454.3000, Low=446.6600, Close=449.5200, Volume=17175679\n",
            "Inserting data for 2024-07-15: Open=453.3000, Symbol='MSFT', High=457.2600, Low=451.4300, Close=453.9600, Volume=14429447\n",
            "Inserting data for 2024-07-12: Open=454.3250, Symbol='MSFT', High=456.3600, Low=450.6450, Close=453.5500, Volume=16324274\n",
            "Inserting data for 2024-07-11: Open=462.9800, Symbol='MSFT', High=464.7800, Low=451.5500, Close=454.7000, Volume=23111175\n",
            "Inserting data for 2024-07-10: Open=461.2200, Symbol='MSFT', High=466.4600, Low=458.8550, Close=466.2500, Volume=18196100\n",
            "Inserting data for 2024-07-09: Open=467.0000, Symbol='MSFT', High=467.3300, Low=458.0000, Close=459.5400, Volume=17228507\n",
            "Inserting data for 2024-07-08: Open=466.5500, Symbol='MSFT', High=467.7000, Low=464.4600, Close=466.2400, Volume=12962321\n",
            "Inserting data for 2024-07-05: Open=459.6100, Symbol='MSFT', High=468.3500, Low=458.9650, Close=467.5600, Volume=16000290\n",
            "Inserting data for 2024-07-03: Open=458.1900, Symbol='MSFT', High=461.0200, Low=457.8800, Close=460.7700, Volume=9932830\n",
            "Inserting data for 2024-07-02: Open=453.2000, Symbol='MSFT', High=459.5900, Low=453.1130, Close=459.2800, Volume=13979779\n",
            "Inserting data for 2024-07-01: Open=448.6600, Symbol='MSFT', High=457.3700, Low=445.6600, Close=456.7300, Volume=17662818\n",
            "Record count after second load: 61\n",
            "Idempotent: record counts are consistent.\n"
          ]
        }
      ]
    },
    {
      "cell_type": "code",
      "source": [],
      "metadata": {
        "id": "zDY5b-4SvRQh"
      },
      "execution_count": null,
      "outputs": []
    }
  ]
}